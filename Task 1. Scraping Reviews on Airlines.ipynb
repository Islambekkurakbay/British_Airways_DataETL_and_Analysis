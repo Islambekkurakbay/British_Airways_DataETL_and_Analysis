{
 "cells": [
  {
   "cell_type": "markdown",
   "id": "1782eb9a",
   "metadata": {},
   "source": [
    "Scrape data from the web.\n",
    "The first thing to do will be to scrape review data from the web. For this, you should use a website called <a href='https://www.airlinequality.com/lounge-reviews/british-airways/'>Skytrax</a>.\n",
    "\n",
    "The team leader wants you to focus on reviews specifically about the airline itself. You should collect as much data as you can in order to improve the output of your analysis. To get started with the data collection, you can use the “Jupyter Notebook” in the Resources section below to run some Python code that will help to collect some data. "
   ]
  },
  {
   "cell_type": "markdown",
   "id": "510a3763",
   "metadata": {},
   "source": [
    "### Getting Started"
   ]
  },
  {
   "cell_type": "code",
   "execution_count": 1,
   "id": "381fad23",
   "metadata": {},
   "outputs": [],
   "source": [
    "# importing libraries\n",
    "import urllib3\n",
    "import json\n",
    "from bs4 import BeautifulSoup"
   ]
  },
  {
   "cell_type": "code",
   "execution_count": 2,
   "id": "82dad395",
   "metadata": {},
   "outputs": [],
   "source": [
    "http = urllib3.PoolManager()"
   ]
  },
  {
   "cell_type": "code",
   "execution_count": 3,
   "id": "2b127bd1",
   "metadata": {},
   "outputs": [
    {
     "name": "stdout",
     "output_type": "stream",
     "text": [
      "200\n"
     ]
    }
   ],
   "source": [
    "url = \"https://www.airlinequality.com/airline-reviews/british-airways\"\n",
    "response = http.request('GET', url)\n",
    "print(response.status)\n",
    "soup = BeautifulSoup(response.data)"
   ]
  },
  {
   "cell_type": "markdown",
   "id": "32f0706e",
   "metadata": {},
   "source": [
    "### Getting every page"
   ]
  },
  {
   "cell_type": "code",
   "execution_count": 4,
   "id": "a223e0ba",
   "metadata": {},
   "outputs": [
    {
     "data": {
      "text/plain": [
       "'https://www.airlinequality.com/airline-reviews/british-airways'"
      ]
     },
     "execution_count": 4,
     "metadata": {},
     "output_type": "execute_result"
    }
   ],
   "source": [
    "url"
   ]
  },
  {
   "cell_type": "code",
   "execution_count": 5,
   "id": "169fee40",
   "metadata": {},
   "outputs": [
    {
     "data": {
      "text/plain": [
       "'https://www.airlinequality.com/airline-reviews/british-airways/page/15/'"
      ]
     },
     "execution_count": 5,
     "metadata": {},
     "output_type": "execute_result"
    }
   ],
   "source": [
    "urls = []\n",
    "for i in range(357):\n",
    "    pages = f'/page/{i}/'\n",
    "    urls.append(url+pages)\n",
    "    \n",
    "urls[15]"
   ]
  },
  {
   "cell_type": "markdown",
   "id": "2f9b2e1c",
   "metadata": {},
   "source": [
    "### Getting each review"
   ]
  },
  {
   "cell_type": "code",
   "execution_count": 10,
   "id": "15e7042b",
   "metadata": {
    "scrolled": false
   },
   "outputs": [
    {
     "data": {
      "text/plain": [
       "{'id': 3,\n",
       " 'Topic': '\"Cheap, quick and efficient\"',\n",
       " 'Name': 'A Warten (Chile) ',\n",
       " 'Date': '23rd May 2023',\n",
       " 'Verified': 'Trip Verified',\n",
       " 'Text': '✅   Online check in worked fine. Quick security check. Once onboard quick flight up to Glasgow, water and snack provided. All in all very pleased. Cheap, quick and efficient.',\n",
       " 'Aircraft': 'A320',\n",
       " 'Type Of Traveller': 'Solo Leisure',\n",
       " 'Seat Type': 'Economy Class',\n",
       " 'Route': 'London to Glasgow',\n",
       " 'Date Flown': 'May 2023',\n",
       " 'Seat Comfort': 5,\n",
       " 'Cabin Staff Service': 5,\n",
       " 'Food & Beverages': 5,\n",
       " 'Ground Service': 5,\n",
       " 'Value For Money': 5,\n",
       " 'Recommended': 'yes'}"
      ]
     },
     "execution_count": 10,
     "metadata": {},
     "output_type": "execute_result"
    }
   ],
   "source": [
    "# function for \n",
    "def get_info(url, count):\n",
    "    response = http.request('GET', url)\n",
    "    if response.status != 200:\n",
    "        d = {\"error\": response.status}\n",
    "        return d\n",
    "    soup = BeautifulSoup(response.data)\n",
    "    \n",
    "    topic = soup.find_all(\"h2\", {\"text_header\"})\n",
    "    user = soup.find_all(\"h3\", {\"text_sub_header userStatusWrapper\"})\n",
    "    review = soup.find_all(\"div\", {\"text_content\"})\n",
    "    ratings = soup.find_all(\"div\", \"review-stats\")\n",
    "\n",
    "    users = []\n",
    "    for i in range(len(topic)):\n",
    "        reviews = {}\n",
    "        reviews['id'] = i+count\n",
    "        reviews['Topic'] = topic[i].get_text()\n",
    "        \n",
    "        try:\n",
    "            try:\n",
    "                number = user[i].span.find_all(\"span\", \"userStatusReviewCount\")[0].text\n",
    "                name = user[i].text\n",
    "                name = name.replace(user[i].time.text, \"\")\n",
    "                date = user[i].text.replace(name, \"\")\n",
    "                name = name.replace('\\n\\n'+number+'\\n\\n\\n\\n', \"\")\n",
    "\n",
    "            except:\n",
    "                name = user[i].text\n",
    "                name = name.replace(user[i].time.text, \"\")\n",
    "                date = user[i].text.replace(name, \"\")\n",
    "                name = name.replace('\\n\\n', \"\")\n",
    "        except:\n",
    "            continue\n",
    "            \n",
    "        reviews['Name'] = name\n",
    "        reviews['Date'] = date\n",
    "        \n",
    "        try:\n",
    "            verified = review[i].find(\"a\").get_text()\n",
    "            text = review[i].get_text().replace(verified + \" |\", \"\")\n",
    "        except:\n",
    "            verified = None\n",
    "            text = review[i].get_text()\n",
    "        reviews['Verified'] = verified\n",
    "        reviews['Text'] = text\n",
    "        \n",
    "        # getting ratings\n",
    "        rows = ratings[i].find_all(\"tr\")\n",
    "        for j in rows:\n",
    "            name = j.find_all((\"td\", \"review-value\"))[0].get_text()\n",
    "            value = j.find_all((\"td\", \"review-value\"))[1].get_text()\n",
    "            if value == '12345':\n",
    "                value = len(j.find_all(\"span\", \"star fill\"))\n",
    "            reviews[name] = value\n",
    "                \n",
    "        users.append(reviews)\n",
    "\n",
    "    return users, i+count\n",
    "\n",
    "data, count = get_info(url, 0)\n",
    "data[3]"
   ]
  },
  {
   "cell_type": "code",
   "execution_count": 577,
   "id": "b2b745d5",
   "metadata": {},
   "outputs": [
    {
     "data": {
      "text/plain": [
       "'https://www.airlinequality.com/airline-reviews/british-airways'"
      ]
     },
     "execution_count": 577,
     "metadata": {},
     "output_type": "execute_result"
    }
   ],
   "source": [
    "url"
   ]
  },
  {
   "cell_type": "markdown",
   "id": "c9128382",
   "metadata": {},
   "source": [
    "### Scraping every page "
   ]
  },
  {
   "cell_type": "code",
   "execution_count": 578,
   "id": "86550550",
   "metadata": {},
   "outputs": [],
   "source": [
    "data = []\n",
    "count = 0\n",
    "for url in urls:\n",
    "#     print(i)\n",
    "    d, count = get_info(url, count)\n",
    "    data.extend(d)\n",
    "    count+=1"
   ]
  },
  {
   "cell_type": "markdown",
   "id": "b04da4f7",
   "metadata": {},
   "source": [
    "### DataFrame"
   ]
  },
  {
   "cell_type": "code",
   "execution_count": 579,
   "id": "b01b2167",
   "metadata": {},
   "outputs": [
    {
     "data": {
      "text/html": [
       "<div>\n",
       "<style scoped>\n",
       "    .dataframe tbody tr th:only-of-type {\n",
       "        vertical-align: middle;\n",
       "    }\n",
       "\n",
       "    .dataframe tbody tr th {\n",
       "        vertical-align: top;\n",
       "    }\n",
       "\n",
       "    .dataframe thead th {\n",
       "        text-align: right;\n",
       "    }\n",
       "</style>\n",
       "<table border=\"1\" class=\"dataframe\">\n",
       "  <thead>\n",
       "    <tr style=\"text-align: right;\">\n",
       "      <th></th>\n",
       "      <th>id</th>\n",
       "      <th>Topic</th>\n",
       "      <th>Name</th>\n",
       "      <th>Date</th>\n",
       "      <th>Verified</th>\n",
       "      <th>Text</th>\n",
       "      <th>Type Of Traveller</th>\n",
       "      <th>Seat Type</th>\n",
       "      <th>Route</th>\n",
       "      <th>Date Flown</th>\n",
       "      <th>Seat Comfort</th>\n",
       "      <th>Cabin Staff Service</th>\n",
       "      <th>Food &amp; Beverages</th>\n",
       "      <th>Inflight Entertainment</th>\n",
       "      <th>Ground Service</th>\n",
       "      <th>Wifi &amp; Connectivity</th>\n",
       "      <th>Value For Money</th>\n",
       "      <th>Recommended</th>\n",
       "      <th>Aircraft</th>\n",
       "    </tr>\n",
       "  </thead>\n",
       "  <tbody>\n",
       "    <tr>\n",
       "      <th>0</th>\n",
       "      <td>0</td>\n",
       "      <td>\"cancel your flight without notice\"</td>\n",
       "      <td>B Sherry (United States)</td>\n",
       "      <td>23rd May 2023</td>\n",
       "      <td>Not Verified</td>\n",
       "      <td>Top Ten REASONS to not use British Airways To...</td>\n",
       "      <td>Couple Leisure</td>\n",
       "      <td>Premium Economy</td>\n",
       "      <td>Dallas to Madrid via London</td>\n",
       "      <td>May 2023</td>\n",
       "      <td>1.0</td>\n",
       "      <td>1.0</td>\n",
       "      <td>1</td>\n",
       "      <td>1</td>\n",
       "      <td>1.0</td>\n",
       "      <td>1.0</td>\n",
       "      <td>1</td>\n",
       "      <td>no</td>\n",
       "      <td>NaN</td>\n",
       "    </tr>\n",
       "    <tr>\n",
       "      <th>1</th>\n",
       "      <td>1</td>\n",
       "      <td>\"flights changed with no cost\"</td>\n",
       "      <td>William Jackson (Spain)</td>\n",
       "      <td>23rd May 2023</td>\n",
       "      <td>Not Verified</td>\n",
       "      <td>Easy check in on the way to Heathrow. The fl...</td>\n",
       "      <td>Couple Leisure</td>\n",
       "      <td>Economy Class</td>\n",
       "      <td>London to Valencia</td>\n",
       "      <td>March 2023</td>\n",
       "      <td>4.0</td>\n",
       "      <td>4.0</td>\n",
       "      <td>NaN</td>\n",
       "      <td>NaN</td>\n",
       "      <td>5.0</td>\n",
       "      <td>NaN</td>\n",
       "      <td>4</td>\n",
       "      <td>yes</td>\n",
       "      <td>NaN</td>\n",
       "    </tr>\n",
       "    <tr>\n",
       "      <th>2</th>\n",
       "      <td>2</td>\n",
       "      <td>\"Cheap, quick and efficient\"</td>\n",
       "      <td>A Warten (Chile)</td>\n",
       "      <td>23rd May 2023</td>\n",
       "      <td>Trip Verified</td>\n",
       "      <td>✅   Online check in worked fine. Quick securit...</td>\n",
       "      <td>Solo Leisure</td>\n",
       "      <td>Economy Class</td>\n",
       "      <td>London to Glasgow</td>\n",
       "      <td>May 2023</td>\n",
       "      <td>5.0</td>\n",
       "      <td>5.0</td>\n",
       "      <td>5</td>\n",
       "      <td>NaN</td>\n",
       "      <td>5.0</td>\n",
       "      <td>NaN</td>\n",
       "      <td>5</td>\n",
       "      <td>yes</td>\n",
       "      <td>A320</td>\n",
       "    </tr>\n",
       "    <tr>\n",
       "      <th>3</th>\n",
       "      <td>3</td>\n",
       "      <td>\"the worst major European airline\"</td>\n",
       "      <td>E Michaels (United Kingdom)</td>\n",
       "      <td>22nd May 2023</td>\n",
       "      <td>Trip Verified</td>\n",
       "      <td>✅ . The BA first lounge at Terminal 5 was a  z...</td>\n",
       "      <td>Business</td>\n",
       "      <td>Business Class</td>\n",
       "      <td>London Heathrow to Malaga</td>\n",
       "      <td>May 2023</td>\n",
       "      <td>2.0</td>\n",
       "      <td>2.0</td>\n",
       "      <td>3</td>\n",
       "      <td>1</td>\n",
       "      <td>1.0</td>\n",
       "      <td>1.0</td>\n",
       "      <td>1</td>\n",
       "      <td>no</td>\n",
       "      <td>A320 Finnair</td>\n",
       "    </tr>\n",
       "    <tr>\n",
       "      <th>4</th>\n",
       "      <td>4</td>\n",
       "      <td>\"do not think the fare was worth the money\"</td>\n",
       "      <td>Steve Bennett (United Kingdom)</td>\n",
       "      <td>22nd May 2023</td>\n",
       "      <td>Not Verified</td>\n",
       "      <td>Paid a quick visit to Nice yesterday from Hea...</td>\n",
       "      <td>Couple Leisure</td>\n",
       "      <td>Business Class</td>\n",
       "      <td>London to Nice</td>\n",
       "      <td>May 2023</td>\n",
       "      <td>2.0</td>\n",
       "      <td>3.0</td>\n",
       "      <td>3</td>\n",
       "      <td>NaN</td>\n",
       "      <td>4.0</td>\n",
       "      <td>1.0</td>\n",
       "      <td>1</td>\n",
       "      <td>no</td>\n",
       "      <td>A319</td>\n",
       "    </tr>\n",
       "    <tr>\n",
       "      <th>...</th>\n",
       "      <td>...</td>\n",
       "      <td>...</td>\n",
       "      <td>...</td>\n",
       "      <td>...</td>\n",
       "      <td>...</td>\n",
       "      <td>...</td>\n",
       "      <td>...</td>\n",
       "      <td>...</td>\n",
       "      <td>...</td>\n",
       "      <td>...</td>\n",
       "      <td>...</td>\n",
       "      <td>...</td>\n",
       "      <td>...</td>\n",
       "      <td>...</td>\n",
       "      <td>...</td>\n",
       "      <td>...</td>\n",
       "      <td>...</td>\n",
       "      <td>...</td>\n",
       "      <td>...</td>\n",
       "    </tr>\n",
       "    <tr>\n",
       "      <th>3558</th>\n",
       "      <td>3558</td>\n",
       "      <td>British Airways customer review</td>\n",
       "      <td>Michael Dielissen (Canada)</td>\n",
       "      <td>29th August 2012</td>\n",
       "      <td>None</td>\n",
       "      <td>YYZ to LHR - July 2012 - I flew overnight in p...</td>\n",
       "      <td>NaN</td>\n",
       "      <td>Premium Economy</td>\n",
       "      <td>NaN</td>\n",
       "      <td>NaN</td>\n",
       "      <td>4.0</td>\n",
       "      <td>3.0</td>\n",
       "      <td>3</td>\n",
       "      <td>4</td>\n",
       "      <td>NaN</td>\n",
       "      <td>NaN</td>\n",
       "      <td>4</td>\n",
       "      <td>yes</td>\n",
       "      <td>NaN</td>\n",
       "    </tr>\n",
       "    <tr>\n",
       "      <th>3559</th>\n",
       "      <td>3559</td>\n",
       "      <td>British Airways customer review</td>\n",
       "      <td>Nick Berry (United Kingdom)</td>\n",
       "      <td>28th August 2012</td>\n",
       "      <td>None</td>\n",
       "      <td>LHR to HAM. Purser addresses all club passenge...</td>\n",
       "      <td>NaN</td>\n",
       "      <td>Business Class</td>\n",
       "      <td>NaN</td>\n",
       "      <td>NaN</td>\n",
       "      <td>4.0</td>\n",
       "      <td>5.0</td>\n",
       "      <td>4</td>\n",
       "      <td>N/A</td>\n",
       "      <td>NaN</td>\n",
       "      <td>NaN</td>\n",
       "      <td>3</td>\n",
       "      <td>yes</td>\n",
       "      <td>NaN</td>\n",
       "    </tr>\n",
       "    <tr>\n",
       "      <th>3560</th>\n",
       "      <td>3560</td>\n",
       "      <td>British Airways customer review</td>\n",
       "      <td>Avril Barclay (United Kingdom)</td>\n",
       "      <td>12th October 2011</td>\n",
       "      <td>None</td>\n",
       "      <td>My son who had worked for British Airways urge...</td>\n",
       "      <td>NaN</td>\n",
       "      <td>Economy Class</td>\n",
       "      <td>NaN</td>\n",
       "      <td>NaN</td>\n",
       "      <td>NaN</td>\n",
       "      <td>NaN</td>\n",
       "      <td>NaN</td>\n",
       "      <td>NaN</td>\n",
       "      <td>NaN</td>\n",
       "      <td>NaN</td>\n",
       "      <td>4</td>\n",
       "      <td>yes</td>\n",
       "      <td>NaN</td>\n",
       "    </tr>\n",
       "    <tr>\n",
       "      <th>3561</th>\n",
       "      <td>3561</td>\n",
       "      <td>British Airways customer review</td>\n",
       "      <td>C Volz (United States)</td>\n",
       "      <td>11th October 2011</td>\n",
       "      <td>None</td>\n",
       "      <td>London City-New York JFK via Shannon on A318 b...</td>\n",
       "      <td>NaN</td>\n",
       "      <td>Premium Economy</td>\n",
       "      <td>NaN</td>\n",
       "      <td>NaN</td>\n",
       "      <td>1.0</td>\n",
       "      <td>3.0</td>\n",
       "      <td>5</td>\n",
       "      <td>N/A</td>\n",
       "      <td>NaN</td>\n",
       "      <td>NaN</td>\n",
       "      <td>1</td>\n",
       "      <td>no</td>\n",
       "      <td>NaN</td>\n",
       "    </tr>\n",
       "    <tr>\n",
       "      <th>3562</th>\n",
       "      <td>3562</td>\n",
       "      <td>British Airways customer review</td>\n",
       "      <td>Russ King (United Kingdom)</td>\n",
       "      <td>9th October 2011</td>\n",
       "      <td>None</td>\n",
       "      <td>SIN-LHR BA12 B747-436 First Class. Old aircraf...</td>\n",
       "      <td>NaN</td>\n",
       "      <td>First Class</td>\n",
       "      <td>NaN</td>\n",
       "      <td>NaN</td>\n",
       "      <td>4.0</td>\n",
       "      <td>5.0</td>\n",
       "      <td>5</td>\n",
       "      <td>2</td>\n",
       "      <td>NaN</td>\n",
       "      <td>NaN</td>\n",
       "      <td>2</td>\n",
       "      <td>no</td>\n",
       "      <td>NaN</td>\n",
       "    </tr>\n",
       "  </tbody>\n",
       "</table>\n",
       "<p>3563 rows × 19 columns</p>\n",
       "</div>"
      ],
      "text/plain": [
       "        id                                        Topic  \\\n",
       "0        0          \"cancel your flight without notice\"   \n",
       "1        1               \"flights changed with no cost\"   \n",
       "2        2                 \"Cheap, quick and efficient\"   \n",
       "3        3          \"the worst major European airline\"    \n",
       "4        4  \"do not think the fare was worth the money\"   \n",
       "...    ...                                          ...   \n",
       "3558  3558              British Airways customer review   \n",
       "3559  3559              British Airways customer review   \n",
       "3560  3560              British Airways customer review   \n",
       "3561  3561              British Airways customer review   \n",
       "3562  3562              British Airways customer review   \n",
       "\n",
       "                                 Name               Date       Verified  \\\n",
       "0           B Sherry (United States)       23rd May 2023   Not Verified   \n",
       "1            William Jackson (Spain)       23rd May 2023   Not Verified   \n",
       "2                   A Warten (Chile)       23rd May 2023  Trip Verified   \n",
       "3        E Michaels (United Kingdom)       22nd May 2023  Trip Verified   \n",
       "4     Steve Bennett (United Kingdom)       22nd May 2023   Not Verified   \n",
       "...                               ...                ...            ...   \n",
       "3558      Michael Dielissen (Canada)    29th August 2012           None   \n",
       "3559     Nick Berry (United Kingdom)    28th August 2012           None   \n",
       "3560  Avril Barclay (United Kingdom)   12th October 2011           None   \n",
       "3561          C Volz (United States)   11th October 2011           None   \n",
       "3562      Russ King (United Kingdom)    9th October 2011           None   \n",
       "\n",
       "                                                   Text Type Of Traveller  \\\n",
       "0      Top Ten REASONS to not use British Airways To...    Couple Leisure   \n",
       "1       Easy check in on the way to Heathrow. The fl...    Couple Leisure   \n",
       "2     ✅   Online check in worked fine. Quick securit...      Solo Leisure   \n",
       "3     ✅ . The BA first lounge at Terminal 5 was a  z...          Business   \n",
       "4      Paid a quick visit to Nice yesterday from Hea...    Couple Leisure   \n",
       "...                                                 ...               ...   \n",
       "3558  YYZ to LHR - July 2012 - I flew overnight in p...               NaN   \n",
       "3559  LHR to HAM. Purser addresses all club passenge...               NaN   \n",
       "3560  My son who had worked for British Airways urge...               NaN   \n",
       "3561  London City-New York JFK via Shannon on A318 b...               NaN   \n",
       "3562  SIN-LHR BA12 B747-436 First Class. Old aircraf...               NaN   \n",
       "\n",
       "            Seat Type                        Route  Date Flown  Seat Comfort  \\\n",
       "0     Premium Economy  Dallas to Madrid via London    May 2023           1.0   \n",
       "1       Economy Class           London to Valencia  March 2023           4.0   \n",
       "2       Economy Class            London to Glasgow    May 2023           5.0   \n",
       "3      Business Class   London Heathrow to Malaga     May 2023           2.0   \n",
       "4      Business Class               London to Nice    May 2023           2.0   \n",
       "...               ...                          ...         ...           ...   \n",
       "3558  Premium Economy                          NaN         NaN           4.0   \n",
       "3559   Business Class                          NaN         NaN           4.0   \n",
       "3560    Economy Class                          NaN         NaN           NaN   \n",
       "3561  Premium Economy                          NaN         NaN           1.0   \n",
       "3562      First Class                          NaN         NaN           4.0   \n",
       "\n",
       "      Cabin Staff Service Food & Beverages Inflight Entertainment  \\\n",
       "0                     1.0                1                      1   \n",
       "1                     4.0              NaN                    NaN   \n",
       "2                     5.0                5                    NaN   \n",
       "3                     2.0                3                      1   \n",
       "4                     3.0                3                    NaN   \n",
       "...                   ...              ...                    ...   \n",
       "3558                  3.0                3                      4   \n",
       "3559                  5.0                4                    N/A   \n",
       "3560                  NaN              NaN                    NaN   \n",
       "3561                  3.0                5                    N/A   \n",
       "3562                  5.0                5                      2   \n",
       "\n",
       "      Ground Service  Wifi & Connectivity Value For Money Recommended  \\\n",
       "0                1.0                  1.0               1          no   \n",
       "1                5.0                  NaN               4         yes   \n",
       "2                5.0                  NaN               5         yes   \n",
       "3                1.0                  1.0               1          no   \n",
       "4                4.0                  1.0               1          no   \n",
       "...              ...                  ...             ...         ...   \n",
       "3558             NaN                  NaN               4         yes   \n",
       "3559             NaN                  NaN               3         yes   \n",
       "3560             NaN                  NaN               4         yes   \n",
       "3561             NaN                  NaN               1          no   \n",
       "3562             NaN                  NaN               2          no   \n",
       "\n",
       "          Aircraft  \n",
       "0              NaN  \n",
       "1              NaN  \n",
       "2             A320  \n",
       "3     A320 Finnair  \n",
       "4             A319  \n",
       "...            ...  \n",
       "3558           NaN  \n",
       "3559           NaN  \n",
       "3560           NaN  \n",
       "3561           NaN  \n",
       "3562           NaN  \n",
       "\n",
       "[3563 rows x 19 columns]"
      ]
     },
     "execution_count": 579,
     "metadata": {},
     "output_type": "execute_result"
    }
   ],
   "source": [
    "import pandas as pd\n",
    "df = pd.DataFrame(data)\n",
    "df"
   ]
  },
  {
   "cell_type": "code",
   "execution_count": 582,
   "id": "930635cb",
   "metadata": {},
   "outputs": [],
   "source": [
    "df.to_csv('BritishAirlinesReview.csv', index=False)"
   ]
  },
  {
   "cell_type": "markdown",
   "id": "3a7153d2",
   "metadata": {},
   "source": [
    "### Scratch"
   ]
  },
  {
   "cell_type": "code",
   "execution_count": 78,
   "id": "1fbfa04e",
   "metadata": {},
   "outputs": [
    {
     "data": {
      "text/plain": [
       "<span class=\"star fill\">1</span>"
      ]
     },
     "execution_count": 78,
     "metadata": {},
     "output_type": "execute_result"
    }
   ],
   "source": [
    "table = soup.find(lambda tag: tag.name=='table') \n",
    "rows = table.findAll(lambda tag: tag.name=='tr')\n",
    "rows[2].span"
   ]
  },
  {
   "cell_type": "code",
   "execution_count": 75,
   "id": "840fbacf",
   "metadata": {},
   "outputs": [
    {
     "data": {
      "text/plain": [
       "'Food & Beverages'"
      ]
     },
     "execution_count": 75,
     "metadata": {},
     "output_type": "execute_result"
    }
   ],
   "source": [
    "rows[0].td.get_text()"
   ]
  },
  {
   "cell_type": "code",
   "execution_count": 7,
   "id": "71d930fd",
   "metadata": {
    "scrolled": true
   },
   "outputs": [
    {
     "data": {
      "text/plain": [
       "'\"cancel your flight without notice\"'"
      ]
     },
     "execution_count": 7,
     "metadata": {},
     "output_type": "execute_result"
    }
   ],
   "source": [
    "topic = soup.find(\"h2\", {\"text_header\"})\n",
    "topic.get_text()"
   ]
  },
  {
   "cell_type": "code",
   "execution_count": null,
   "id": "708cb75c",
   "metadata": {},
   "outputs": [],
   "source": [
    ".span.span.get_text()"
   ]
  },
  {
   "cell_type": "code",
   "execution_count": 44,
   "id": "5be573aa",
   "metadata": {},
   "outputs": [
    {
     "name": "stdout",
     "output_type": "stream",
     "text": [
      "<span itemprop=\"author\" itemscope=\"\" itemtype=\"http://schema.org/Person\">\n",
      "<span itemprop=\"name\">B Sherry</span></span>\n",
      "<time datetime=\"2023-05-23\" itemprop=\"datePublished\">23rd May 2023</time>\n"
     ]
    }
   ],
   "source": [
    "print(a.span)\n",
    "print(a.time)"
   ]
  },
  {
   "cell_type": "code",
   "execution_count": 45,
   "id": "0ea36d1d",
   "metadata": {
    "scrolled": true
   },
   "outputs": [
    {
     "data": {
      "text/plain": [
       "'\\n\\nB Sherry (United States) 23rd May 2023'"
      ]
     },
     "execution_count": 45,
     "metadata": {},
     "output_type": "execute_result"
    }
   ],
   "source": [
    "a = soup.find(\"h3\", {\"text_sub_header userStatusWrapper\"})\n",
    "a.get_text()"
   ]
  },
  {
   "cell_type": "code",
   "execution_count": 420,
   "id": "7f4b268d",
   "metadata": {
    "scrolled": true
   },
   "outputs": [
    {
     "data": {
      "text/plain": [
       "'Trip Verified'"
      ]
     },
     "execution_count": 420,
     "metadata": {},
     "output_type": "execute_result"
    }
   ],
   "source": [
    "text = soup.find_all(\"div\", {\"text_content\"})\n",
    "text[2].find(\"a\").text"
   ]
  },
  {
   "cell_type": "code",
   "execution_count": 344,
   "id": "bd0ec5ea",
   "metadata": {},
   "outputs": [
    {
     "name": "stdout",
     "output_type": "stream",
     "text": [
      "{'Type Of Traveller': 'Couple Leisure', 'Seat Type': 'Economy Class', 'Route': 'London to Valencia', 'Date Flown': 'March 2023', 'Seat Comfort': 4, 'Cabin Staff Service': 4, 'Ground Service': 5, 'Value For Money': 4, 'Recommended': 'yes'}\n"
     ]
    }
   ],
   "source": [
    "# script to split the ratings\n",
    "r = {}\n",
    "\n",
    "ratings = soup.find_all(\"div\", \"review-stats\")\n",
    "rows = ratings[1].find_all(\"tr\")\n",
    "for i in rows:\n",
    "    name = i.find_all((\"td\", \"review-value\"))[0].get_text()\n",
    "    value = i.find_all((\"td\", \"review-value\"))[1].get_text()\n",
    "    if value == '12345':\n",
    "        value = len(i.find_all(\"span\", \"star fill\"))\n",
    "    r[name] = value\n",
    "    \n",
    "print(r)"
   ]
  },
  {
   "cell_type": "code",
   "execution_count": 559,
   "id": "7e9b4f54",
   "metadata": {},
   "outputs": [
    {
     "data": {
      "text/plain": [
       "1130"
      ]
     },
     "execution_count": 559,
     "metadata": {},
     "output_type": "execute_result"
    }
   ],
   "source": [
    "count"
   ]
  },
  {
   "cell_type": "code",
   "execution_count": null,
   "id": "b73cb3c0",
   "metadata": {},
   "outputs": [],
   "source": [
    "name = user[i].text.replace(user[i].time.text, \"\")\n",
    "reviews['user'] = name[2:]"
   ]
  },
  {
   "cell_type": "code",
   "execution_count": 565,
   "id": "0495be89",
   "metadata": {
    "scrolled": true
   },
   "outputs": [
    {
     "name": "stdout",
     "output_type": "stream",
     "text": [
      "Type Of Traveller Solo Leisure\n",
      "Seat Type Economy Class\n",
      "Route London to Belfast\n",
      "Date Flown March 2018\n",
      "Seat Comfort 5\n",
      "Cabin Staff Service 5\n",
      "Ground Service 4\n",
      "Value For Money 3\n",
      "Recommended no\n"
     ]
    }
   ],
   "source": [
    "u = 'https://www.airlinequality.com/airline-reviews/british-airways/page/113/'\n",
    "response = http.request('GET', u)\n",
    "soup = BeautifulSoup(response.data)\n",
    "\n",
    "i=5\n",
    "ratings = soup.find_all(\"div\", \"review-stats\")\n",
    "rows = ratings[i].find_all(\"tr\")\n",
    "for j in rows:\n",
    "    name = j.find_all((\"td\", \"review-value\"))[0].get_text()\n",
    "    value = j.find_all((\"td\", \"review-value\"))[1].get_text()\n",
    "    if value == '12345':\n",
    "        value = len(j.find_all(\"span\", \"star fill\"))\n",
    "    print(name, value)"
   ]
  },
  {
   "cell_type": "code",
   "execution_count": 499,
   "id": "9acc8dc9",
   "metadata": {},
   "outputs": [
    {
     "name": "stdout",
     "output_type": "stream",
     "text": [
      "\n",
      "P Gough\n"
     ]
    }
   ],
   "source": [
    "user = soup.find_all(\"h3\", {\"text_sub_header userStatusWrapper\"})\n",
    "print(user[2].span.get_text())"
   ]
  },
  {
   "cell_type": "code",
   "execution_count": 478,
   "id": "67f24ce2",
   "metadata": {},
   "outputs": [
    {
     "data": {
      "text/plain": [
       "'3 reviews'"
      ]
     },
     "execution_count": 478,
     "metadata": {},
     "output_type": "execute_result"
    }
   ],
   "source": [
    "number"
   ]
  },
  {
   "cell_type": "code",
   "execution_count": 447,
   "id": "1989e659",
   "metadata": {},
   "outputs": [
    {
     "data": {
      "text/plain": [
       "{'id': 4,\n",
       " 'topic': '\"Ryanair has more finesse\"',\n",
       " 'user': '3 reviews\\n\\n\\n\\nS James (United Kingdom) ',\n",
       " 'date': '17th March 2022',\n",
       " 'verified': 'Trip Verified',\n",
       " 'text': \"✅  One would think that the number of crises BA incurs they would have had emergency planning down to a fine art. I last flew with BA May 2017 - yes, the weekend of the last but one IT crisis. I swore never again but ended up purchasing a ticket Aug 2018 to Bologna - BA cancelled the flight. Then covid hit so ended up with a voucher. Fast forward to Feb 26th, 2022. Received a message 5.30am 30mins from LHR that that my flight was cancelled. Arrived at the airport with everyone else just wandering and seeking answers. The staff that were there either told you to go online - a bit difficult as the BA systems were down or ring BA. Ha Ha or go home - not very helpful if you live two hours from LHR. By some miracle the app sprung into life, and I managed to get one of the last 10 seats on the evening flight. Sat in arrivals as there was a coffee shop - soon ran out of seats. By 12.00 midday most of us were trying to get airside to use lounges but no one was allowed in departures until two hours prior to your flight supposedly because of crowds. Pointed out BA should have provided refreshments - told to put a claim in. Eventually got to departures and made it through security. BA customer services (note the oxymoron) - had a consistent queue of about 20 people as BA were still cancelling/rearranging flights for passengers who were airside. Boarded flight 45mins late. Sat on tarmac as the pilot told us the delay was them trying to 'reconcile' luggage. When we took off given one very small bottle of water and a cereal bar for a five-hour flight They purport to be a top-class airline but in fact Ryanair has more finesse. The staff are fine but can be miserable because they are treated so badly and like to remind you that they are doing their best in a difficult situation - well so are the passengers. The aircraft are cramped and worn. I had been reluctant to use Egyptair but flew home with them on a new aircraft with a very good entertainment system and was provided with a hot meal and snack for same price as a BA ticket. How on earth can BA justify their prices? The management should be sacked as ultimately they are to blame for the ruination of this airline.\",\n",
       " 'Type Of Traveller': 'Couple Leisure',\n",
       " 'Seat Type': 'Economy Class',\n",
       " 'Route': 'London Heathrow to Cairo',\n",
       " 'Date Flown': 'February 2022',\n",
       " 'Seat Comfort': 1,\n",
       " 'Cabin Staff Service': 3,\n",
       " 'Food & Beverages': 1,\n",
       " 'Ground Service': 1,\n",
       " 'Value For Money': 1,\n",
       " 'Recommended': 'no'}"
      ]
     },
     "execution_count": 447,
     "metadata": {},
     "output_type": "execute_result"
    }
   ],
   "source": [
    "a[4]"
   ]
  }
 ],
 "metadata": {
  "kernelspec": {
   "display_name": "Python 3",
   "language": "python",
   "name": "python3"
  },
  "language_info": {
   "codemirror_mode": {
    "name": "ipython",
    "version": 3
   },
   "file_extension": ".py",
   "mimetype": "text/x-python",
   "name": "python",
   "nbconvert_exporter": "python",
   "pygments_lexer": "ipython3",
   "version": "3.8.8"
  }
 },
 "nbformat": 4,
 "nbformat_minor": 5
}
