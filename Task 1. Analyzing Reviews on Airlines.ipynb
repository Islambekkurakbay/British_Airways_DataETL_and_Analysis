{
 "cells": [
  {
   "cell_type": "markdown",
   "id": "3a7828f2",
   "metadata": {},
   "source": [
    "Once you have your dataset, you need to prepare it. The data will be very messy and contain purely text. You will need to perform data cleaning in order to prepare the data for analysis. When the data is clean, you should perform your own analysis to uncover some insights.<br><br> As a starting point, you could look at topic modelling, sentiment analysis or wordclouds to provide some insight into the content of the reviews. It is recommended to complete this task using Python, however, you can use any tool that you wish. You can use some of the documentation websites provided in the Resources section below to analyse the data.\n"
   ]
  },
  {
   "cell_type": "markdown",
   "id": "89cf62da",
   "metadata": {},
   "source": [
    "## Getting Started"
   ]
  },
  {
   "cell_type": "code",
   "execution_count": 2,
   "id": "ede00388",
   "metadata": {},
   "outputs": [],
   "source": [
    "import pandas as pd\n",
    "import numpy as np\n",
    "import matplotlib.pyplot as plt\n",
    "import seaborn as sns"
   ]
  },
  {
   "cell_type": "code",
   "execution_count": 3,
   "id": "f236a1e9",
   "metadata": {},
   "outputs": [
    {
     "data": {
      "text/html": [
       "<div>\n",
       "<style scoped>\n",
       "    .dataframe tbody tr th:only-of-type {\n",
       "        vertical-align: middle;\n",
       "    }\n",
       "\n",
       "    .dataframe tbody tr th {\n",
       "        vertical-align: top;\n",
       "    }\n",
       "\n",
       "    .dataframe thead th {\n",
       "        text-align: right;\n",
       "    }\n",
       "</style>\n",
       "<table border=\"1\" class=\"dataframe\">\n",
       "  <thead>\n",
       "    <tr style=\"text-align: right;\">\n",
       "      <th></th>\n",
       "      <th>id</th>\n",
       "      <th>Topic</th>\n",
       "      <th>Name</th>\n",
       "      <th>Date</th>\n",
       "      <th>Verified</th>\n",
       "      <th>Text</th>\n",
       "      <th>Type Of Traveller</th>\n",
       "      <th>Seat Type</th>\n",
       "      <th>Route</th>\n",
       "      <th>Date Flown</th>\n",
       "      <th>Seat Comfort</th>\n",
       "      <th>Cabin Staff Service</th>\n",
       "      <th>Food &amp; Beverages</th>\n",
       "      <th>Inflight Entertainment</th>\n",
       "      <th>Ground Service</th>\n",
       "      <th>Wifi &amp; Connectivity</th>\n",
       "      <th>Value For Money</th>\n",
       "      <th>Recommended</th>\n",
       "      <th>Aircraft</th>\n",
       "    </tr>\n",
       "  </thead>\n",
       "  <tbody>\n",
       "    <tr>\n",
       "      <th>0</th>\n",
       "      <td>0</td>\n",
       "      <td>\"cancel your flight without notice\"</td>\n",
       "      <td>B Sherry (United States)</td>\n",
       "      <td>23rd May 2023</td>\n",
       "      <td>Not Verified</td>\n",
       "      <td>Top Ten REASONS to not use British Airways To...</td>\n",
       "      <td>Couple Leisure</td>\n",
       "      <td>Premium Economy</td>\n",
       "      <td>Dallas to Madrid via London</td>\n",
       "      <td>May 2023</td>\n",
       "      <td>1.0</td>\n",
       "      <td>1.0</td>\n",
       "      <td>1.0</td>\n",
       "      <td>1.0</td>\n",
       "      <td>1.0</td>\n",
       "      <td>1.0</td>\n",
       "      <td>1.0</td>\n",
       "      <td>no</td>\n",
       "      <td>NaN</td>\n",
       "    </tr>\n",
       "    <tr>\n",
       "      <th>1</th>\n",
       "      <td>1</td>\n",
       "      <td>\"flights changed with no cost\"</td>\n",
       "      <td>William Jackson (Spain)</td>\n",
       "      <td>23rd May 2023</td>\n",
       "      <td>Not Verified</td>\n",
       "      <td>Easy check in on the way to Heathrow. The fl...</td>\n",
       "      <td>Couple Leisure</td>\n",
       "      <td>Economy Class</td>\n",
       "      <td>London to Valencia</td>\n",
       "      <td>March 2023</td>\n",
       "      <td>4.0</td>\n",
       "      <td>4.0</td>\n",
       "      <td>NaN</td>\n",
       "      <td>NaN</td>\n",
       "      <td>5.0</td>\n",
       "      <td>NaN</td>\n",
       "      <td>4.0</td>\n",
       "      <td>yes</td>\n",
       "      <td>NaN</td>\n",
       "    </tr>\n",
       "    <tr>\n",
       "      <th>2</th>\n",
       "      <td>2</td>\n",
       "      <td>\"Cheap, quick and efficient\"</td>\n",
       "      <td>A Warten (Chile)</td>\n",
       "      <td>23rd May 2023</td>\n",
       "      <td>Trip Verified</td>\n",
       "      <td>✅   Online check in worked fine. Quick securit...</td>\n",
       "      <td>Solo Leisure</td>\n",
       "      <td>Economy Class</td>\n",
       "      <td>London to Glasgow</td>\n",
       "      <td>May 2023</td>\n",
       "      <td>5.0</td>\n",
       "      <td>5.0</td>\n",
       "      <td>5.0</td>\n",
       "      <td>NaN</td>\n",
       "      <td>5.0</td>\n",
       "      <td>NaN</td>\n",
       "      <td>5.0</td>\n",
       "      <td>yes</td>\n",
       "      <td>A320</td>\n",
       "    </tr>\n",
       "    <tr>\n",
       "      <th>3</th>\n",
       "      <td>3</td>\n",
       "      <td>\"the worst major European airline\"</td>\n",
       "      <td>E Michaels (United Kingdom)</td>\n",
       "      <td>22nd May 2023</td>\n",
       "      <td>Trip Verified</td>\n",
       "      <td>✅ . The BA first lounge at Terminal 5 was a  z...</td>\n",
       "      <td>Business</td>\n",
       "      <td>Business Class</td>\n",
       "      <td>London Heathrow to Malaga</td>\n",
       "      <td>May 2023</td>\n",
       "      <td>2.0</td>\n",
       "      <td>2.0</td>\n",
       "      <td>3.0</td>\n",
       "      <td>1.0</td>\n",
       "      <td>1.0</td>\n",
       "      <td>1.0</td>\n",
       "      <td>1.0</td>\n",
       "      <td>no</td>\n",
       "      <td>A320 Finnair</td>\n",
       "    </tr>\n",
       "    <tr>\n",
       "      <th>4</th>\n",
       "      <td>4</td>\n",
       "      <td>\"do not think the fare was worth the money\"</td>\n",
       "      <td>Steve Bennett (United Kingdom)</td>\n",
       "      <td>22nd May 2023</td>\n",
       "      <td>Not Verified</td>\n",
       "      <td>Paid a quick visit to Nice yesterday from Hea...</td>\n",
       "      <td>Couple Leisure</td>\n",
       "      <td>Business Class</td>\n",
       "      <td>London to Nice</td>\n",
       "      <td>May 2023</td>\n",
       "      <td>2.0</td>\n",
       "      <td>3.0</td>\n",
       "      <td>3.0</td>\n",
       "      <td>NaN</td>\n",
       "      <td>4.0</td>\n",
       "      <td>1.0</td>\n",
       "      <td>1.0</td>\n",
       "      <td>no</td>\n",
       "      <td>A319</td>\n",
       "    </tr>\n",
       "  </tbody>\n",
       "</table>\n",
       "</div>"
      ],
      "text/plain": [
       "   id                                        Topic  \\\n",
       "0   0          \"cancel your flight without notice\"   \n",
       "1   1               \"flights changed with no cost\"   \n",
       "2   2                 \"Cheap, quick and efficient\"   \n",
       "3   3          \"the worst major European airline\"    \n",
       "4   4  \"do not think the fare was worth the money\"   \n",
       "\n",
       "                              Name           Date       Verified  \\\n",
       "0        B Sherry (United States)   23rd May 2023   Not Verified   \n",
       "1         William Jackson (Spain)   23rd May 2023   Not Verified   \n",
       "2                A Warten (Chile)   23rd May 2023  Trip Verified   \n",
       "3     E Michaels (United Kingdom)   22nd May 2023  Trip Verified   \n",
       "4  Steve Bennett (United Kingdom)   22nd May 2023   Not Verified   \n",
       "\n",
       "                                                Text Type Of Traveller  \\\n",
       "0   Top Ten REASONS to not use British Airways To...    Couple Leisure   \n",
       "1    Easy check in on the way to Heathrow. The fl...    Couple Leisure   \n",
       "2  ✅   Online check in worked fine. Quick securit...      Solo Leisure   \n",
       "3  ✅ . The BA first lounge at Terminal 5 was a  z...          Business   \n",
       "4   Paid a quick visit to Nice yesterday from Hea...    Couple Leisure   \n",
       "\n",
       "         Seat Type                        Route  Date Flown  Seat Comfort  \\\n",
       "0  Premium Economy  Dallas to Madrid via London    May 2023           1.0   \n",
       "1    Economy Class           London to Valencia  March 2023           4.0   \n",
       "2    Economy Class            London to Glasgow    May 2023           5.0   \n",
       "3   Business Class   London Heathrow to Malaga     May 2023           2.0   \n",
       "4   Business Class               London to Nice    May 2023           2.0   \n",
       "\n",
       "   Cabin Staff Service  Food & Beverages  Inflight Entertainment  \\\n",
       "0                  1.0               1.0                     1.0   \n",
       "1                  4.0               NaN                     NaN   \n",
       "2                  5.0               5.0                     NaN   \n",
       "3                  2.0               3.0                     1.0   \n",
       "4                  3.0               3.0                     NaN   \n",
       "\n",
       "   Ground Service  Wifi & Connectivity  Value For Money Recommended  \\\n",
       "0             1.0                  1.0              1.0          no   \n",
       "1             5.0                  NaN              4.0         yes   \n",
       "2             5.0                  NaN              5.0         yes   \n",
       "3             1.0                  1.0              1.0          no   \n",
       "4             4.0                  1.0              1.0          no   \n",
       "\n",
       "       Aircraft  \n",
       "0           NaN  \n",
       "1           NaN  \n",
       "2          A320  \n",
       "3  A320 Finnair  \n",
       "4          A319  "
      ]
     },
     "execution_count": 3,
     "metadata": {},
     "output_type": "execute_result"
    }
   ],
   "source": [
    "data = pd.read_csv(\"BritishAirlinesReview.csv\")\n",
    "data.head()"
   ]
  },
  {
   "cell_type": "markdown",
   "id": "864fbe0f",
   "metadata": {},
   "source": [
    "## Data Cleaning"
   ]
  },
  {
   "cell_type": "code",
   "execution_count": 4,
   "id": "21d7dee4",
   "metadata": {},
   "outputs": [
    {
     "name": "stdout",
     "output_type": "stream",
     "text": [
      "<class 'pandas.core.frame.DataFrame'>\n",
      "RangeIndex: 3563 entries, 0 to 3562\n",
      "Data columns (total 19 columns):\n",
      " #   Column                  Non-Null Count  Dtype  \n",
      "---  ------                  --------------  -----  \n",
      " 0   id                      3563 non-null   int64  \n",
      " 1   Topic                   3563 non-null   object \n",
      " 2   Name                    3563 non-null   object \n",
      " 3   Date                    3563 non-null   object \n",
      " 4   Verified                2044 non-null   object \n",
      " 5   Text                    3563 non-null   object \n",
      " 6   Type Of Traveller       2793 non-null   object \n",
      " 7   Seat Type               3561 non-null   object \n",
      " 8   Route                   2788 non-null   object \n",
      " 9   Date Flown              2785 non-null   object \n",
      " 10  Seat Comfort            3459 non-null   float64\n",
      " 11  Cabin Staff Service     3449 non-null   float64\n",
      " 12  Food & Beverages        3212 non-null   float64\n",
      " 13  Inflight Entertainment  2484 non-null   float64\n",
      " 14  Ground Service          2723 non-null   float64\n",
      " 15  Wifi & Connectivity     561 non-null    float64\n",
      " 16  Value For Money         3562 non-null   float64\n",
      " 17  Recommended             3563 non-null   object \n",
      " 18  Aircraft                1852 non-null   object \n",
      "dtypes: float64(7), int64(1), object(11)\n",
      "memory usage: 529.0+ KB\n"
     ]
    }
   ],
   "source": [
    "data.info()"
   ]
  },
  {
   "cell_type": "code",
   "execution_count": 5,
   "id": "e472e235",
   "metadata": {},
   "outputs": [
    {
     "name": "stdout",
     "output_type": "stream",
     "text": [
      "id -  0.0%\n",
      "Topic -  0.0%\n",
      "Name -  0.0%\n",
      "Date -  0.0%\n",
      "Verified -  42.6%\n",
      "Text -  0.0%\n",
      "Type Of Traveller -  21.6%\n",
      "Seat Type -  0.1%\n",
      "Route -  21.8%\n",
      "Date Flown -  21.8%\n",
      "Seat Comfort -  2.9%\n",
      "Cabin Staff Service -  3.2%\n",
      "Food & Beverages -  9.9%\n",
      "Inflight Entertainment -  30.3%\n",
      "Ground Service -  23.6%\n",
      "Wifi & Connectivity -  84.3%\n",
      "Value For Money -  0.0%\n",
      "Recommended -  0.0%\n",
      "Aircraft -  48.0%\n"
     ]
    }
   ],
   "source": [
    "# Percentage of missing values per column\n",
    "for col in data.columns:\n",
    "    pct_missing = data[col].isnull().sum()\n",
    "    print(f'{col} - {pct_missing/len(data[col]): .1%}')"
   ]
  },
  {
   "cell_type": "markdown",
   "id": "fd845b9e",
   "metadata": {},
   "source": [
    "### Imputing missing values"
   ]
  },
  {
   "cell_type": "code",
   "execution_count": 6,
   "id": "2312ad0a",
   "metadata": {},
   "outputs": [],
   "source": [
    "columns = ['Seat Comfort', 'Cabin Staff Service', 'Food & Beverages', 'Inflight Entertainment', 'Ground Service', 'Wifi & Connectivity', 'Value For Money']\n",
    "\n",
    "from sklearn.impute import SimpleImputer\n",
    "imputer = SimpleImputer(missing_values=np.nan, strategy='mean')\n",
    "data[columns] = imputer.fit_transform(data[columns]).round(3)"
   ]
  },
  {
   "cell_type": "code",
   "execution_count": 7,
   "id": "37e11876",
   "metadata": {},
   "outputs": [
    {
     "name": "stdout",
     "output_type": "stream",
     "text": [
      "id -  0.0%\n",
      "Topic -  0.0%\n",
      "Name -  0.0%\n",
      "Date -  0.0%\n",
      "Verified -  42.6%\n",
      "Text -  0.0%\n",
      "Type Of Traveller -  21.6%\n",
      "Seat Type -  0.1%\n",
      "Route -  21.8%\n",
      "Date Flown -  21.8%\n",
      "Seat Comfort -  0.0%\n",
      "Cabin Staff Service -  0.0%\n",
      "Food & Beverages -  0.0%\n",
      "Inflight Entertainment -  0.0%\n",
      "Ground Service -  0.0%\n",
      "Wifi & Connectivity -  0.0%\n",
      "Value For Money -  0.0%\n",
      "Recommended -  0.0%\n",
      "Aircraft -  48.0%\n"
     ]
    }
   ],
   "source": [
    "# Percentage of missing values per column after impute\n",
    "for col in data.columns:\n",
    "    pct_missing = data[col].isnull().sum()\n",
    "    print(f'{col} - {pct_missing/len(data[col]): .1%}')"
   ]
  },
  {
   "cell_type": "markdown",
   "id": "696d0a57",
   "metadata": {},
   "source": [
    "### Droping duplicate values"
   ]
  },
  {
   "cell_type": "code",
   "execution_count": 8,
   "id": "a775c3ee",
   "metadata": {},
   "outputs": [
    {
     "data": {
      "text/plain": [
       "0"
      ]
     },
     "execution_count": 8,
     "metadata": {},
     "output_type": "execute_result"
    }
   ],
   "source": [
    "data = data.drop_duplicates(keep=\"first\")\n",
    "data.duplicated().sum()"
   ]
  },
  {
   "cell_type": "markdown",
   "id": "83939568",
   "metadata": {},
   "source": [
    "### Transforming object data into numerical"
   ]
  },
  {
   "cell_type": "code",
   "execution_count": 9,
   "id": "4a713f21",
   "metadata": {},
   "outputs": [],
   "source": [
    "data['Verified'] = data['Verified'].map({'Trip Verified': 1, 'Not Verified' : 0, np.nan : 0})"
   ]
  },
  {
   "cell_type": "code",
   "execution_count": 10,
   "id": "57ad2f25",
   "metadata": {},
   "outputs": [
    {
     "name": "stdout",
     "output_type": "stream",
     "text": [
      "0 Premium Economy\n",
      "1 Economy Class\n",
      "2 Business Class\n",
      "3 First Class\n",
      "4 nan\n"
     ]
    }
   ],
   "source": [
    "cols = ['Seat Type', 'Type Of Traveller', 'Recommended']\n",
    "\n",
    "def to_numerical(column):\n",
    "    types = {}\n",
    "    for i,j in enumerate(data[column].unique()):\n",
    "        print(i, j)\n",
    "        types[j] = i\n",
    "    data[column] = data[column].map(types)\n",
    "    return data[column]\n",
    "    \n",
    "data[cols[0]] = to_numerical(cols[0])"
   ]
  },
  {
   "cell_type": "code",
   "execution_count": 11,
   "id": "a2c39fd5",
   "metadata": {},
   "outputs": [
    {
     "name": "stdout",
     "output_type": "stream",
     "text": [
      "0 Couple Leisure\n",
      "1 Solo Leisure\n",
      "2 Business\n",
      "3 Family Leisure\n",
      "4 nan\n"
     ]
    }
   ],
   "source": [
    "# Type of Traveller\n",
    "data[cols[1]] = to_numerical(cols[1])"
   ]
  },
  {
   "cell_type": "code",
   "execution_count": 12,
   "id": "e8964fe2",
   "metadata": {},
   "outputs": [
    {
     "name": "stdout",
     "output_type": "stream",
     "text": [
      "0 no\n",
      "1 yes\n"
     ]
    }
   ],
   "source": [
    "# Recommended\n",
    "data[cols[2]] = to_numerical(cols[2])"
   ]
  },
  {
   "cell_type": "code",
   "execution_count": 24,
   "id": "eb0fa1b6",
   "metadata": {},
   "outputs": [
    {
     "data": {
      "text/html": [
       "<div>\n",
       "<style scoped>\n",
       "    .dataframe tbody tr th:only-of-type {\n",
       "        vertical-align: middle;\n",
       "    }\n",
       "\n",
       "    .dataframe tbody tr th {\n",
       "        vertical-align: top;\n",
       "    }\n",
       "\n",
       "    .dataframe thead th {\n",
       "        text-align: right;\n",
       "    }\n",
       "</style>\n",
       "<table border=\"1\" class=\"dataframe\">\n",
       "  <thead>\n",
       "    <tr style=\"text-align: right;\">\n",
       "      <th></th>\n",
       "      <th>id</th>\n",
       "      <th>Topic</th>\n",
       "      <th>Name</th>\n",
       "      <th>Verified</th>\n",
       "      <th>Type Of Traveller</th>\n",
       "      <th>Seat Type</th>\n",
       "      <th>Route</th>\n",
       "      <th>Date Flown</th>\n",
       "      <th>Seat Comfort</th>\n",
       "      <th>Cabin Staff Service</th>\n",
       "      <th>Food &amp; Beverages</th>\n",
       "      <th>Inflight Entertainment</th>\n",
       "      <th>Ground Service</th>\n",
       "      <th>Wifi &amp; Connectivity</th>\n",
       "      <th>Value For Money</th>\n",
       "      <th>Recommended</th>\n",
       "    </tr>\n",
       "  </thead>\n",
       "  <tbody>\n",
       "    <tr>\n",
       "      <th>0</th>\n",
       "      <td>0</td>\n",
       "      <td>\"cancel your flight without notice\"</td>\n",
       "      <td>B Sherry (United States)</td>\n",
       "      <td>0.0</td>\n",
       "      <td>0</td>\n",
       "      <td>0</td>\n",
       "      <td>Dallas to Madrid via London</td>\n",
       "      <td>May 2023</td>\n",
       "      <td>1.000</td>\n",
       "      <td>1.000</td>\n",
       "      <td>1.00</td>\n",
       "      <td>1.000</td>\n",
       "      <td>1.000</td>\n",
       "      <td>1.000</td>\n",
       "      <td>1.0</td>\n",
       "      <td>0</td>\n",
       "    </tr>\n",
       "    <tr>\n",
       "      <th>1</th>\n",
       "      <td>1</td>\n",
       "      <td>\"flights changed with no cost\"</td>\n",
       "      <td>William Jackson (Spain)</td>\n",
       "      <td>0.0</td>\n",
       "      <td>0</td>\n",
       "      <td>1</td>\n",
       "      <td>London to Valencia</td>\n",
       "      <td>March 2023</td>\n",
       "      <td>4.000</td>\n",
       "      <td>4.000</td>\n",
       "      <td>2.73</td>\n",
       "      <td>2.654</td>\n",
       "      <td>5.000</td>\n",
       "      <td>1.925</td>\n",
       "      <td>4.0</td>\n",
       "      <td>1</td>\n",
       "    </tr>\n",
       "    <tr>\n",
       "      <th>2</th>\n",
       "      <td>2</td>\n",
       "      <td>\"Cheap, quick and efficient\"</td>\n",
       "      <td>A Warten (Chile)</td>\n",
       "      <td>1.0</td>\n",
       "      <td>1</td>\n",
       "      <td>1</td>\n",
       "      <td>London to Glasgow</td>\n",
       "      <td>May 2023</td>\n",
       "      <td>5.000</td>\n",
       "      <td>5.000</td>\n",
       "      <td>5.00</td>\n",
       "      <td>2.654</td>\n",
       "      <td>5.000</td>\n",
       "      <td>1.925</td>\n",
       "      <td>5.0</td>\n",
       "      <td>1</td>\n",
       "    </tr>\n",
       "    <tr>\n",
       "      <th>3</th>\n",
       "      <td>3</td>\n",
       "      <td>\"the worst major European airline\"</td>\n",
       "      <td>E Michaels (United Kingdom)</td>\n",
       "      <td>1.0</td>\n",
       "      <td>2</td>\n",
       "      <td>2</td>\n",
       "      <td>London Heathrow to Malaga</td>\n",
       "      <td>May 2023</td>\n",
       "      <td>2.000</td>\n",
       "      <td>2.000</td>\n",
       "      <td>3.00</td>\n",
       "      <td>1.000</td>\n",
       "      <td>1.000</td>\n",
       "      <td>1.000</td>\n",
       "      <td>1.0</td>\n",
       "      <td>0</td>\n",
       "    </tr>\n",
       "    <tr>\n",
       "      <th>4</th>\n",
       "      <td>4</td>\n",
       "      <td>\"do not think the fare was worth the money\"</td>\n",
       "      <td>Steve Bennett (United Kingdom)</td>\n",
       "      <td>0.0</td>\n",
       "      <td>0</td>\n",
       "      <td>2</td>\n",
       "      <td>London to Nice</td>\n",
       "      <td>May 2023</td>\n",
       "      <td>2.000</td>\n",
       "      <td>3.000</td>\n",
       "      <td>3.00</td>\n",
       "      <td>2.654</td>\n",
       "      <td>4.000</td>\n",
       "      <td>1.000</td>\n",
       "      <td>1.0</td>\n",
       "      <td>0</td>\n",
       "    </tr>\n",
       "    <tr>\n",
       "      <th>...</th>\n",
       "      <td>...</td>\n",
       "      <td>...</td>\n",
       "      <td>...</td>\n",
       "      <td>...</td>\n",
       "      <td>...</td>\n",
       "      <td>...</td>\n",
       "      <td>...</td>\n",
       "      <td>...</td>\n",
       "      <td>...</td>\n",
       "      <td>...</td>\n",
       "      <td>...</td>\n",
       "      <td>...</td>\n",
       "      <td>...</td>\n",
       "      <td>...</td>\n",
       "      <td>...</td>\n",
       "      <td>...</td>\n",
       "    </tr>\n",
       "    <tr>\n",
       "      <th>3558</th>\n",
       "      <td>3558</td>\n",
       "      <td>British Airways customer review</td>\n",
       "      <td>Michael Dielissen (Canada)</td>\n",
       "      <td>0.0</td>\n",
       "      <td>4</td>\n",
       "      <td>0</td>\n",
       "      <td>NaN</td>\n",
       "      <td>NaN</td>\n",
       "      <td>4.000</td>\n",
       "      <td>3.000</td>\n",
       "      <td>3.00</td>\n",
       "      <td>4.000</td>\n",
       "      <td>2.824</td>\n",
       "      <td>1.925</td>\n",
       "      <td>4.0</td>\n",
       "      <td>1</td>\n",
       "    </tr>\n",
       "    <tr>\n",
       "      <th>3559</th>\n",
       "      <td>3559</td>\n",
       "      <td>British Airways customer review</td>\n",
       "      <td>Nick Berry (United Kingdom)</td>\n",
       "      <td>0.0</td>\n",
       "      <td>4</td>\n",
       "      <td>2</td>\n",
       "      <td>NaN</td>\n",
       "      <td>NaN</td>\n",
       "      <td>4.000</td>\n",
       "      <td>5.000</td>\n",
       "      <td>4.00</td>\n",
       "      <td>2.654</td>\n",
       "      <td>2.824</td>\n",
       "      <td>1.925</td>\n",
       "      <td>3.0</td>\n",
       "      <td>1</td>\n",
       "    </tr>\n",
       "    <tr>\n",
       "      <th>3560</th>\n",
       "      <td>3560</td>\n",
       "      <td>British Airways customer review</td>\n",
       "      <td>Avril Barclay (United Kingdom)</td>\n",
       "      <td>0.0</td>\n",
       "      <td>4</td>\n",
       "      <td>1</td>\n",
       "      <td>NaN</td>\n",
       "      <td>NaN</td>\n",
       "      <td>2.893</td>\n",
       "      <td>3.272</td>\n",
       "      <td>2.73</td>\n",
       "      <td>2.654</td>\n",
       "      <td>2.824</td>\n",
       "      <td>1.925</td>\n",
       "      <td>4.0</td>\n",
       "      <td>1</td>\n",
       "    </tr>\n",
       "    <tr>\n",
       "      <th>3561</th>\n",
       "      <td>3561</td>\n",
       "      <td>British Airways customer review</td>\n",
       "      <td>C Volz (United States)</td>\n",
       "      <td>0.0</td>\n",
       "      <td>4</td>\n",
       "      <td>0</td>\n",
       "      <td>NaN</td>\n",
       "      <td>NaN</td>\n",
       "      <td>1.000</td>\n",
       "      <td>3.000</td>\n",
       "      <td>5.00</td>\n",
       "      <td>2.654</td>\n",
       "      <td>2.824</td>\n",
       "      <td>1.925</td>\n",
       "      <td>1.0</td>\n",
       "      <td>0</td>\n",
       "    </tr>\n",
       "    <tr>\n",
       "      <th>3562</th>\n",
       "      <td>3562</td>\n",
       "      <td>British Airways customer review</td>\n",
       "      <td>Russ King (United Kingdom)</td>\n",
       "      <td>0.0</td>\n",
       "      <td>4</td>\n",
       "      <td>3</td>\n",
       "      <td>NaN</td>\n",
       "      <td>NaN</td>\n",
       "      <td>4.000</td>\n",
       "      <td>5.000</td>\n",
       "      <td>5.00</td>\n",
       "      <td>2.000</td>\n",
       "      <td>2.824</td>\n",
       "      <td>1.925</td>\n",
       "      <td>2.0</td>\n",
       "      <td>0</td>\n",
       "    </tr>\n",
       "  </tbody>\n",
       "</table>\n",
       "<p>3563 rows × 16 columns</p>\n",
       "</div>"
      ],
      "text/plain": [
       "        id                                        Topic  \\\n",
       "0        0          \"cancel your flight without notice\"   \n",
       "1        1               \"flights changed with no cost\"   \n",
       "2        2                 \"Cheap, quick and efficient\"   \n",
       "3        3          \"the worst major European airline\"    \n",
       "4        4  \"do not think the fare was worth the money\"   \n",
       "...    ...                                          ...   \n",
       "3558  3558              British Airways customer review   \n",
       "3559  3559              British Airways customer review   \n",
       "3560  3560              British Airways customer review   \n",
       "3561  3561              British Airways customer review   \n",
       "3562  3562              British Airways customer review   \n",
       "\n",
       "                                 Name  Verified  Type Of Traveller  Seat Type  \\\n",
       "0           B Sherry (United States)        0.0                  0          0   \n",
       "1            William Jackson (Spain)        0.0                  0          1   \n",
       "2                   A Warten (Chile)        1.0                  1          1   \n",
       "3        E Michaels (United Kingdom)        1.0                  2          2   \n",
       "4     Steve Bennett (United Kingdom)        0.0                  0          2   \n",
       "...                               ...       ...                ...        ...   \n",
       "3558      Michael Dielissen (Canada)        0.0                  4          0   \n",
       "3559     Nick Berry (United Kingdom)        0.0                  4          2   \n",
       "3560  Avril Barclay (United Kingdom)        0.0                  4          1   \n",
       "3561          C Volz (United States)        0.0                  4          0   \n",
       "3562      Russ King (United Kingdom)        0.0                  4          3   \n",
       "\n",
       "                            Route  Date Flown  Seat Comfort  \\\n",
       "0     Dallas to Madrid via London    May 2023         1.000   \n",
       "1              London to Valencia  March 2023         4.000   \n",
       "2               London to Glasgow    May 2023         5.000   \n",
       "3      London Heathrow to Malaga     May 2023         2.000   \n",
       "4                  London to Nice    May 2023         2.000   \n",
       "...                           ...         ...           ...   \n",
       "3558                          NaN         NaN         4.000   \n",
       "3559                          NaN         NaN         4.000   \n",
       "3560                          NaN         NaN         2.893   \n",
       "3561                          NaN         NaN         1.000   \n",
       "3562                          NaN         NaN         4.000   \n",
       "\n",
       "      Cabin Staff Service  Food & Beverages  Inflight Entertainment  \\\n",
       "0                   1.000              1.00                   1.000   \n",
       "1                   4.000              2.73                   2.654   \n",
       "2                   5.000              5.00                   2.654   \n",
       "3                   2.000              3.00                   1.000   \n",
       "4                   3.000              3.00                   2.654   \n",
       "...                   ...               ...                     ...   \n",
       "3558                3.000              3.00                   4.000   \n",
       "3559                5.000              4.00                   2.654   \n",
       "3560                3.272              2.73                   2.654   \n",
       "3561                3.000              5.00                   2.654   \n",
       "3562                5.000              5.00                   2.000   \n",
       "\n",
       "      Ground Service  Wifi & Connectivity  Value For Money  Recommended  \n",
       "0              1.000                1.000              1.0            0  \n",
       "1              5.000                1.925              4.0            1  \n",
       "2              5.000                1.925              5.0            1  \n",
       "3              1.000                1.000              1.0            0  \n",
       "4              4.000                1.000              1.0            0  \n",
       "...              ...                  ...              ...          ...  \n",
       "3558           2.824                1.925              4.0            1  \n",
       "3559           2.824                1.925              3.0            1  \n",
       "3560           2.824                1.925              4.0            1  \n",
       "3561           2.824                1.925              1.0            0  \n",
       "3562           2.824                1.925              2.0            0  \n",
       "\n",
       "[3563 rows x 16 columns]"
      ]
     },
     "execution_count": 24,
     "metadata": {},
     "output_type": "execute_result"
    }
   ],
   "source": [
    "data.drop(['Date', 'Text', 'Aircraft'], axis=1)"
   ]
  },
  {
   "cell_type": "markdown",
   "id": "6ad519ea",
   "metadata": {},
   "source": [
    "### Some Insights"
   ]
  },
  {
   "cell_type": "code",
   "execution_count": 12,
   "id": "62b7e8ec",
   "metadata": {
    "scrolled": false
   },
   "outputs": [
    {
     "data": {
      "text/plain": [
       "<AxesSubplot:xlabel='Seat Comfort', ylabel='count'>"
      ]
     },
     "execution_count": 12,
     "metadata": {},
     "output_type": "execute_result"
    },
    {
     "data": {
      "image/png": "[encoded data removed]",
      "text/plain": [
       "<Figure size 432x288 with 1 Axes>"
      ]
     },
     "metadata": {
      "needs_background": "light"
     },
     "output_type": "display_data"
    }
   ],
   "source": [
    "# Data Visualizations\n",
    "sns.countplot(x=data[columns[0]])"
   ]
  },
  {
   "cell_type": "code",
   "execution_count": 13,
   "id": "51063025",
   "metadata": {
    "scrolled": true
   },
   "outputs": [
    {
     "data": {
      "text/plain": [
       "<AxesSubplot:xlabel='Cabin Staff Service', ylabel='count'>"
      ]
     },
     "execution_count": 13,
     "metadata": {},
     "output_type": "execute_result"
    },
    {
     "data": {
      "image/png": "[encoded data removed]",
      "text/plain": [
       "<Figure size 432x288 with 1 Axes>"
      ]
     },
     "metadata": {
      "needs_background": "light"
     },
     "output_type": "display_data"
    }
   ],
   "source": [
    "sns.countplot(x=data[columns[1]])"
   ]
  },
  {
   "cell_type": "code",
   "execution_count": 14,
   "id": "be5cb85a",
   "metadata": {},
   "outputs": [
    {
     "data": {
      "text/plain": [
       "<AxesSubplot:xlabel='Food & Beverages', ylabel='count'>"
      ]
     },
     "execution_count": 14,
     "metadata": {},
     "output_type": "execute_result"
    },
    {
     "data": {
      "image/png": "[encoded data removed]",
      "text/plain": [
       "<Figure size 432x288 with 1 Axes>"
      ]
     },
     "metadata": {
      "needs_background": "light"
     },
     "output_type": "display_data"
    }
   ],
   "source": [
    "sns.countplot(x=data[columns[2]])"
   ]
  },
  {
   "cell_type": "code",
   "execution_count": 15,
   "id": "231b0a23",
   "metadata": {},
   "outputs": [
    {
     "data": {
      "text/plain": [
       "<AxesSubplot:xlabel='Inflight Entertainment', ylabel='count'>"
      ]
     },
     "execution_count": 15,
     "metadata": {},
     "output_type": "execute_result"
    },
    {
     "data": {
      "image/png": "[encoded data removed]",
      "text/plain": [
       "<Figure size 432x288 with 1 Axes>"
      ]
     },
     "metadata": {
      "needs_background": "light"
     },
     "output_type": "display_data"
    }
   ],
   "source": [
    "sns.countplot(x=data[columns[3]])"
   ]
  },
  {
   "cell_type": "code",
   "execution_count": 16,
   "id": "8ea2df81",
   "metadata": {},
   "outputs": [
    {
     "data": {
      "text/plain": [
       "<AxesSubplot:xlabel='Ground Service', ylabel='count'>"
      ]
     },
     "execution_count": 16,
     "metadata": {},
     "output_type": "execute_result"
    },
    {
     "data": {
      "image/png": "[encoded data removed]",
      "text/plain": [
       "<Figure size 432x288 with 1 Axes>"
      ]
     },
     "metadata": {
      "needs_background": "light"
     },
     "output_type": "display_data"
    }
   ],
   "source": [
    "sns.countplot(x=data[columns[4]])"
   ]
  },
  {
   "cell_type": "code",
   "execution_count": 18,
   "id": "67c9adaa",
   "metadata": {},
   "outputs": [
    {
     "data": {
      "text/plain": [
       "<AxesSubplot:xlabel='Value For Money', ylabel='count'>"
      ]
     },
     "execution_count": 18,
     "metadata": {},
     "output_type": "execute_result"
    },
    {
     "data": {
      "image/png": "[encoded data removed]",
      "text/plain": [
       "<Figure size 432x288 with 1 Axes>"
      ]
     },
     "metadata": {
      "needs_background": "light"
     },
     "output_type": "display_data"
    }
   ],
   "source": [
    "sns.countplot(x=data[columns[6]])"
   ]
  },
  {
   "cell_type": "code",
   "execution_count": 19,
   "id": "ebf780bd",
   "metadata": {},
   "outputs": [
    {
     "data": {
      "text/plain": [
       "<AxesSubplot:xlabel='Recommended', ylabel='count'>"
      ]
     },
     "execution_count": 19,
     "metadata": {},
     "output_type": "execute_result"
    },
    {
     "data": {
      "image/png": "[encoded data removed]",
      "text/plain": [
       "<Figure size 432x288 with 1 Axes>"
      ]
     },
     "metadata": {
      "needs_background": "light"
     },
     "output_type": "display_data"
    }
   ],
   "source": [
    "sns.countplot(x=data['Recommended'])"
   ]
  },
  {
   "cell_type": "code",
   "execution_count": 16,
   "id": "fba8abdf",
   "metadata": {},
   "outputs": [
    {
     "data": {
      "text/plain": [
       "0    2086\n",
       "1    1477\n",
       "Name: Recommended, dtype: int64"
      ]
     },
     "execution_count": 16,
     "metadata": {},
     "output_type": "execute_result"
    }
   ],
   "source": [
    "data['Recommended'].value_counts()"
   ]
  },
  {
   "cell_type": "markdown",
   "id": "dd51d4bf",
   "metadata": {},
   "source": [
    "### Insights\n",
    "The British Airlines (BA) reviews are widely varied. There are both positive and negative reviews about the BA services. The empty data were filled with the average value and graphs presented.\n",
    "1. The highest rated average service is the cabin staff service (3.000). It seems like BA pilots and flight attendants are the most liked.\n",
    "2. The least rated average service is the inflight entertainment (2.654), which is above average threshold of 2.5.\n",
    "3. Though the \"value for money\" and \"Food&Beverages\" reviews are comparatively high than \"Inflight Entertainment\", these sections have the most of 1-star rates. The 3,4,5-star reviews are seemingly uniformly distributed.\n",
    "4. Overall there are more \"Not Recommend\" reviews than the other."
   ]
  },
  {
   "cell_type": "code",
   "execution_count": 19,
   "id": "0c63ce25",
   "metadata": {},
   "outputs": [
    {
     "name": "stderr",
     "output_type": "stream",
     "text": [
      "<ipython-input-19-17980b2d01c8>:3: FutureWarning: The default value of numeric_only in DataFrame.corr is deprecated. In a future version, it will default to False. Select only valid columns or specify the value of numeric_only to silence this warning.\n",
      "  sns.heatmap(data.corr(), annot=True)\n"
     ]
    },
    {
     "data": {
      "text/plain": [
       "<AxesSubplot:>"
      ]
     },
     "execution_count": 19,
     "metadata": {},
     "output_type": "execute_result"
    },
    {
     "data": {
      "image/png": "[encoded data removed]",
      "text/plain": [
       "<Figure size 1008x720 with 2 Axes>"
      ]
     },
     "metadata": {
      "needs_background": "light"
     },
     "output_type": "display_data"
    }
   ],
   "source": [
    "# Additional heatmap of the data correlation\n",
    "plt.figure(figsize=(14,10))\n",
    "sns.heatmap(data.corr(), annot=True)"
   ]
  },
  {
   "cell_type": "markdown",
   "id": "dea321d1",
   "metadata": {},
   "source": [
    "### Insights\n",
    "1. The most correlated features are \"Recommended\" and \"Value for money\". This might be the case that the value for the money for the trip is the most important factor among given. In 80% cases the value for the money rate resulted in recommendation outcome.\n",
    "2. \"Value for money\" feature itself is the total sentiment of the other factors. For example, columns \"Seat Comfort\", \"Cabin Staff Service\", \"Food & Beverage\" in 65% of the cases affect to the outcome of the \"Value for Money\" column.\n",
    "\n",
    "\n",
    "People's review texts contain more information regarding their flights and the reasons for their decisions. With that notion, wordcloud will be implemented."
   ]
  },
  {
   "cell_type": "code",
   "execution_count": 119,
   "id": "d071d87c",
   "metadata": {},
   "outputs": [
    {
     "data": {
      "text/html": [
       "<div>\n",
       "<style scoped>\n",
       "    .dataframe tbody tr th:only-of-type {\n",
       "        vertical-align: middle;\n",
       "    }\n",
       "\n",
       "    .dataframe tbody tr th {\n",
       "        vertical-align: top;\n",
       "    }\n",
       "\n",
       "    .dataframe thead th {\n",
       "        text-align: right;\n",
       "    }\n",
       "</style>\n",
       "<table border=\"1\" class=\"dataframe\">\n",
       "  <thead>\n",
       "    <tr style=\"text-align: right;\">\n",
       "      <th></th>\n",
       "      <th>Seat Comfort</th>\n",
       "      <th>Cabin Staff Service</th>\n",
       "      <th>Food &amp; Beverages</th>\n",
       "      <th>Inflight Entertainment</th>\n",
       "      <th>Ground Service</th>\n",
       "      <th>Wifi &amp; Connectivity</th>\n",
       "      <th>Value For Money</th>\n",
       "    </tr>\n",
       "    <tr>\n",
       "      <th>Recommended</th>\n",
       "      <th></th>\n",
       "      <th></th>\n",
       "      <th></th>\n",
       "      <th></th>\n",
       "      <th></th>\n",
       "      <th></th>\n",
       "      <th></th>\n",
       "    </tr>\n",
       "  </thead>\n",
       "  <tbody>\n",
       "    <tr>\n",
       "      <th>0</th>\n",
       "      <td>2.165481</td>\n",
       "      <td>2.472767</td>\n",
       "      <td>1.959434</td>\n",
       "      <td>2.236426</td>\n",
       "      <td>2.251256</td>\n",
       "      <td>1.833581</td>\n",
       "      <td>1.735379</td>\n",
       "    </tr>\n",
       "    <tr>\n",
       "      <th>1</th>\n",
       "      <td>3.919891</td>\n",
       "      <td>4.400688</td>\n",
       "      <td>3.817773</td>\n",
       "      <td>3.243387</td>\n",
       "      <td>3.633067</td>\n",
       "      <td>2.054164</td>\n",
       "      <td>4.118296</td>\n",
       "    </tr>\n",
       "  </tbody>\n",
       "</table>\n",
       "</div>"
      ],
      "text/plain": [
       "             Seat Comfort  Cabin Staff Service  Food & Beverages  \\\n",
       "Recommended                                                        \n",
       "0                2.165481             2.472767          1.959434   \n",
       "1                3.919891             4.400688          3.817773   \n",
       "\n",
       "             Inflight Entertainment  Ground Service  Wifi & Connectivity  \\\n",
       "Recommended                                                                \n",
       "0                          2.236426        2.251256             1.833581   \n",
       "1                          3.243387        3.633067             2.054164   \n",
       "\n",
       "             Value For Money  \n",
       "Recommended                   \n",
       "0                   1.735379  \n",
       "1                   4.118296  "
      ]
     },
     "execution_count": 119,
     "metadata": {},
     "output_type": "execute_result"
    }
   ],
   "source": [
    "x = data[columns + [\"Recommended\"]].groupby(\"Recommended\").mean()\n",
    "x.head()"
   ]
  },
  {
   "cell_type": "code",
   "execution_count": 134,
   "id": "538639ea",
   "metadata": {},
   "outputs": [
    {
     "data": {
      "image/png": "[encoded data removed]",
      "text/plain": [
       "<Figure size 864x432 with 1 Axes>"
      ]
     },
     "metadata": {
      "needs_background": "light"
     },
     "output_type": "display_data"
    }
   ],
   "source": [
    "axes = x.plot.bar(figsize=(12,6))"
   ]
  },
  {
   "cell_type": "markdown",
   "id": "c472fb98",
   "metadata": {},
   "source": [
    "### Insights\n",
    "1. From the dataframe above it can be seen that both recommended and unrecommended people reviews have similar average rates of \"Inflight Entertainment\" and \"Wifi & Connectivity\". Last column, however, had many missing values (84.3%) so it is not that vital.\n",
    "2. It can be observed that columns \"Value For Money\" and \"Food & Beverages\" columns are the factors that divide the people. Since their maximum averages have maximum difference."
   ]
  },
  {
   "cell_type": "markdown",
   "id": "d9ec20c3",
   "metadata": {},
   "source": [
    "### Preprocessing Review Texts"
   ]
  },
  {
   "cell_type": "code",
   "execution_count": 79,
   "id": "58fb6707",
   "metadata": {},
   "outputs": [],
   "source": [
    "from nltk.corpus import brown, stopwords\n",
    "from nltk.tokenize import word_tokenize"
   ]
  },
  {
   "cell_type": "code",
   "execution_count": 96,
   "id": "730c3e1f",
   "metadata": {},
   "outputs": [],
   "source": [
    "recommended = data[data['Recommended']==1]\n",
    "not_recommended = data[data['Recommended']==0]\n",
    "text_rec = (' '. join(recommended['Text'].to_list()).lower()).split()\n",
    "text_not_rec = (' '. join(not_recommended['Text'].to_list()).lower()).split()"
   ]
  },
  {
   "cell_type": "code",
   "execution_count": 206,
   "id": "7ceb58d1",
   "metadata": {},
   "outputs": [],
   "source": [
    "words_rec = []\n",
    "words_not_rec = []\n",
    "stop = stopwords.words('english')\n",
    "puncs = (',', '.', '--', '-', '!', '?', ':', ';', '``', \"''\", '(', ')', '[', ']')\n",
    "for i in text_rec:\n",
    "    if (i not in stop) and (i not in puncs) and (i!='✅'):\n",
    "        words_rec.append(i)\n",
    "        \n",
    "for i in text_not_rec:\n",
    "    if (i not in stop) and (i not in puncs) and (i!='✅'):\n",
    "        words_not_rec.append(i)"
   ]
  },
  {
   "cell_type": "code",
   "execution_count": 228,
   "id": "75ff8bfa",
   "metadata": {},
   "outputs": [],
   "source": [
    "x = ' '.join(words_rec)\n",
    "chars = re.escape(string.punctuation)\n",
    "my_str = re.sub('['+chars+']', '',x)\n",
    "my_str = re.sub('[^a-zA-Z \\n\\.]', '', my_str)"
   ]
  },
  {
   "cell_type": "code",
   "execution_count": 229,
   "id": "fafa8328",
   "metadata": {},
   "outputs": [],
   "source": [
    "y = ' '.join(words_not_rec)\n",
    "chars = re.escape(string.punctuation)\n",
    "my_str2 = re.sub('['+chars+']', '',y)\n",
    "my_str2 = re.sub('[^a-zA-Z \\n\\.]', '', my_str2)"
   ]
  },
  {
   "cell_type": "code",
   "execution_count": 232,
   "id": "ef99053f",
   "metadata": {},
   "outputs": [
    {
     "data": {
      "text/plain": [
       "[('flight', 1864),\n",
       " ('ba', 1163),\n",
       " ('good', 1118),\n",
       " ('crew', 945),\n",
       " ('food', 941),\n",
       " ('service', 850),\n",
       " ('cabin', 809),\n",
       " ('seat', 765),\n",
       " ('seats', 662),\n",
       " ('time', 634)]"
      ]
     },
     "execution_count": 232,
     "metadata": {},
     "output_type": "execute_result"
    }
   ],
   "source": [
    "# most common words of people who recommends BA services\n",
    "from collections import Counter\n",
    "token_counts_rec = Counter(words_rec)\n",
    "token_counts_rec.most_common(10)"
   ]
  },
  {
   "cell_type": "code",
   "execution_count": 104,
   "id": "d3b44f2e",
   "metadata": {},
   "outputs": [
    {
     "data": {
      "text/plain": [
       "[('flight', 3006),\n",
       " ('ba', 2633),\n",
       " ('british', 1439),\n",
       " ('service', 1293),\n",
       " ('seat', 1135),\n",
       " ('airways', 1121),\n",
       " ('food', 1098),\n",
       " ('london', 1079),\n",
       " ('one', 1033),\n",
       " ('business', 1029)]"
      ]
     },
     "execution_count": 104,
     "metadata": {},
     "output_type": "execute_result"
    }
   ],
   "source": [
    "token_counts_not_rec = Counter(words_not_rec)\n",
    "token_counts_not_rec.most_common(10)"
   ]
  },
  {
   "cell_type": "markdown",
   "id": "80060ed2",
   "metadata": {},
   "source": [
    "### Wordcloud"
   ]
  },
  {
   "cell_type": "code",
   "execution_count": 224,
   "id": "2661abe0",
   "metadata": {},
   "outputs": [],
   "source": [
    "# WordCloud made in Google Colab\n",
    "with open('words_recommended.txt', 'w') as f:\n",
    "    f.write(my_str)\n",
    "    \n",
    "with open('words_not_recommended.txt', 'w') as f:\n",
    "    f.write(my_str2)"
   ]
  },
  {
   "cell_type": "code",
   "execution_count": null,
   "id": "1034b277",
   "metadata": {},
   "outputs": [],
   "source": [
    "from wordcloud import WordCloud\n",
    "import matplotlib.pyplot as plt\n",
    "\n",
    "cloud = WordCloud()\n",
    "\n",
    "with open('words_recommended.txt', 'r') as f:\n",
    "    x = f.read()\n",
    "    x = x.replace('flight', '')\n",
    "    x = x.replace('ba', '')\n",
    "    x = x.replace('seat', '')\n",
    "    cloud.generate(x)\n",
    "    plt.imshow(cloud, interpolation='bilinear')"
   ]
  },
  {
   "cell_type": "markdown",
   "id": "b32347f1",
   "metadata": {},
   "source": [
    "<img src='wordcloud_recommended.png' align='left'>"
   ]
  },
  {
   "cell_type": "code",
   "execution_count": null,
   "id": "39c0e06a",
   "metadata": {},
   "outputs": [],
   "source": [
    "with open('words_not_recommended.txt', 'r') as f:\n",
    "    x = f.read()\n",
    "    x = x.replace('flight', '')\n",
    "    x = x.replace('ba', '')\n",
    "    x = x.replace('seat', '')\n",
    "    cloud.generate(x)\n",
    "    plt.imshow(cloud, interpolation='bilinear')"
   ]
  },
  {
   "cell_type": "markdown",
   "id": "b3ba10de",
   "metadata": {},
   "source": [
    "<img src='wordcloud_not_recommended.png' align='left'>"
   ]
  },
  {
   "cell_type": "markdown",
   "id": "963122ed",
   "metadata": {},
   "source": [
    "### Insights\n",
    "1. Both categories of the reviews have similar words. For example, \"food\", \"service\", \"time\", \"return\" and others.\n",
    "2. Most common categorical words for recommended reviews are \"time\", \"good\", \"hour\".\n",
    "3. For the not recommended reviews the most common words are \"business\", \"london\" and \"class\""
   ]
  },
  {
   "cell_type": "markdown",
   "id": "4d5f7dd7",
   "metadata": {},
   "source": [
    "### Recommendation detection"
   ]
  },
  {
   "cell_type": "code",
   "execution_count": 25,
   "id": "a2a49740",
   "metadata": {},
   "outputs": [],
   "source": [
    "from sklearn.feature_extraction.text import CountVectorizer\n",
    "from sklearn.model_selection import train_test_split\n",
    "from sklearn.metrics import classification_report,confusion_matrix\n",
    "from sklearn.naive_bayes import MultinomialNB"
   ]
  },
  {
   "cell_type": "code",
   "execution_count": 55,
   "id": "33ecce8c",
   "metadata": {},
   "outputs": [],
   "source": [
    "vector = CountVectorizer(analyzer = 'word')\n",
    "data_vect = vector.fit_transform(data['Text'])"
   ]
  },
  {
   "cell_type": "code",
   "execution_count": 56,
   "id": "d24ccdc9",
   "metadata": {},
   "outputs": [
    {
     "name": "stdout",
     "output_type": "stream",
     "text": [
      "(2672, 13663) (891, 13663)\n",
      "(2672,) (891,)\n"
     ]
    }
   ],
   "source": [
    "X_train, X_test, y_train, y_test = train_test_split(data_vect, data['Recommended'], test_size = 0.25, random_state = 42)\n",
    "print(X_train.shape, X_test.shape)\n",
    "print(y_train.shape, y_test.shape)"
   ]
  },
  {
   "cell_type": "code",
   "execution_count": 57,
   "id": "0ebdcc9f",
   "metadata": {},
   "outputs": [],
   "source": [
    "nb = MultinomialNB()\n",
    "r = nb.fit(X_train, y_train)"
   ]
  },
  {
   "cell_type": "code",
   "execution_count": 58,
   "id": "ba773061",
   "metadata": {},
   "outputs": [
    {
     "data": {
      "text/plain": [
       "<AxesSubplot:>"
      ]
     },
     "execution_count": 58,
     "metadata": {},
     "output_type": "execute_result"
    },
    {
     "data": {
      "image/png": "[encoded data removed]",
      "text/plain": [
       "<Figure size 432x288 with 2 Axes>"
      ]
     },
     "metadata": {
      "needs_background": "light"
     },
     "output_type": "display_data"
    }
   ],
   "source": [
    "y_predicted = nb.predict(X_test)\n",
    "cm = confusion_matrix(y_test, y_predicted)\n",
    "sns.heatmap(cm, annot=True)"
   ]
  },
  {
   "cell_type": "code",
   "execution_count": 59,
   "id": "a6d50c08",
   "metadata": {},
   "outputs": [
    {
     "name": "stdout",
     "output_type": "stream",
     "text": [
      "              precision    recall  f1-score   support\n",
      "\n",
      "           0       0.89      0.87      0.88       525\n",
      "           1       0.82      0.85      0.83       366\n",
      "\n",
      "    accuracy                           0.86       891\n",
      "   macro avg       0.86      0.86      0.86       891\n",
      "weighted avg       0.86      0.86      0.86       891\n",
      "\n"
     ]
    }
   ],
   "source": [
    "# Naive Bayes Results\n",
    "print(classification_report(y_test, y_predicted))"
   ]
  },
  {
   "cell_type": "code",
   "execution_count": 65,
   "id": "a54a284c",
   "metadata": {},
   "outputs": [],
   "source": [
    "user_input = ['this trip was amazing. i liked it!']\n",
    "x = vector.transform(user_input)\n",
    "y_predicted = nb.predict(x)"
   ]
  },
  {
   "cell_type": "code",
   "execution_count": 66,
   "id": "d30555f3",
   "metadata": {},
   "outputs": [
    {
     "name": "stdout",
     "output_type": "stream",
     "text": [
      "['this trip was amazing. i liked it!']\n",
      "[1]\n"
     ]
    }
   ],
   "source": [
    "print(user_input)\n",
    "print(y_predicted)\n"
   ]
  },
  {
   "cell_type": "code",
   "execution_count": 67,
   "id": "819bf312",
   "metadata": {},
   "outputs": [
    {
     "name": "stdout",
     "output_type": "stream",
     "text": [
      "[\"I didn't like this trip at all. It was waste of money!\"]\n",
      "[0]\n"
     ]
    }
   ],
   "source": [
    "user_input = ['I didn\\'t like this trip at all. It was waste of money!']\n",
    "x = vector.transform(user_input)\n",
    "y_predicted = nb.predict(x)\n",
    "\n",
    "print(user_input)\n",
    "print(y_predicted)"
   ]
  },
  {
   "cell_type": "code",
   "execution_count": null,
   "id": "7ce529a0",
   "metadata": {},
   "outputs": [],
   "source": []
  },
  {
   "cell_type": "markdown",
   "id": "e0fd1b98",
   "metadata": {},
   "source": [
    "### Model Results Overview\n",
    "1. The Multinomial Naive-Bayes works totally fine with binary categorical data. Hence, it performs well on the people's reviews with average recall and f1 scores of 86%.\n",
    "2. Confusion matrix shows us that there are both False-Positive (Type 1) and True-Negative (Type 2) errors appear. Type 1 errors are more costly and more common for this model errors.\n",
    "3. Using the following model the review recommendation outcome can be predicted given the review text with the 86% accuracy."
   ]
  },
  {
   "cell_type": "markdown",
   "id": "df9eac9b",
   "metadata": {},
   "source": [
    "### VADER Sentiment Analysis"
   ]
  },
  {
   "cell_type": "code",
   "execution_count": 69,
   "id": "b51196f4",
   "metadata": {},
   "outputs": [],
   "source": [
    "from vaderSentiment.vaderSentiment import SentimentIntensityAnalyzer\n",
    "sid = SentimentIntensityAnalyzer()"
   ]
  },
  {
   "cell_type": "code",
   "execution_count": 70,
   "id": "69168610",
   "metadata": {},
   "outputs": [
    {
     "data": {
      "text/plain": [
       "0.4215"
      ]
     },
     "execution_count": 70,
     "metadata": {},
     "output_type": "execute_result"
    }
   ],
   "source": [
    "sid.polarity_scores(\"I am doing analysis of one nice airline\")['compound']"
   ]
  },
  {
   "cell_type": "code",
   "execution_count": 71,
   "id": "7bafde24",
   "metadata": {},
   "outputs": [],
   "source": [
    "func = lambda x: sid.polarity_scores(x)['compound']\n",
    "\n",
    "data['Sentiment'] = data['Text'].map(func)"
   ]
  },
  {
   "cell_type": "code",
   "execution_count": 72,
   "id": "824c3ad1",
   "metadata": {},
   "outputs": [
    {
     "data": {
      "text/html": [
       "<div>\n",
       "<style scoped>\n",
       "    .dataframe tbody tr th:only-of-type {\n",
       "        vertical-align: middle;\n",
       "    }\n",
       "\n",
       "    .dataframe tbody tr th {\n",
       "        vertical-align: top;\n",
       "    }\n",
       "\n",
       "    .dataframe thead th {\n",
       "        text-align: right;\n",
       "    }\n",
       "</style>\n",
       "<table border=\"1\" class=\"dataframe\">\n",
       "  <thead>\n",
       "    <tr style=\"text-align: right;\">\n",
       "      <th></th>\n",
       "      <th>Text</th>\n",
       "      <th>Recommended</th>\n",
       "      <th>Sentiment</th>\n",
       "    </tr>\n",
       "  </thead>\n",
       "  <tbody>\n",
       "    <tr>\n",
       "      <th>0</th>\n",
       "      <td>Top Ten REASONS to not use British Airways To...</td>\n",
       "      <td>0</td>\n",
       "      <td>-0.7535</td>\n",
       "    </tr>\n",
       "    <tr>\n",
       "      <th>1</th>\n",
       "      <td>Easy check in on the way to Heathrow. The fl...</td>\n",
       "      <td>1</td>\n",
       "      <td>-0.0516</td>\n",
       "    </tr>\n",
       "    <tr>\n",
       "      <th>2</th>\n",
       "      <td>✅   Online check in worked fine. Quick securit...</td>\n",
       "      <td>1</td>\n",
       "      <td>0.8479</td>\n",
       "    </tr>\n",
       "    <tr>\n",
       "      <th>3</th>\n",
       "      <td>✅ . The BA first lounge at Terminal 5 was a  z...</td>\n",
       "      <td>0</td>\n",
       "      <td>-0.1289</td>\n",
       "    </tr>\n",
       "    <tr>\n",
       "      <th>4</th>\n",
       "      <td>Paid a quick visit to Nice yesterday from Hea...</td>\n",
       "      <td>0</td>\n",
       "      <td>0.9738</td>\n",
       "    </tr>\n",
       "    <tr>\n",
       "      <th>...</th>\n",
       "      <td>...</td>\n",
       "      <td>...</td>\n",
       "      <td>...</td>\n",
       "    </tr>\n",
       "    <tr>\n",
       "      <th>3558</th>\n",
       "      <td>YYZ to LHR - July 2012 - I flew overnight in p...</td>\n",
       "      <td>1</td>\n",
       "      <td>0.0933</td>\n",
       "    </tr>\n",
       "    <tr>\n",
       "      <th>3559</th>\n",
       "      <td>LHR to HAM. Purser addresses all club passenge...</td>\n",
       "      <td>1</td>\n",
       "      <td>0.8720</td>\n",
       "    </tr>\n",
       "    <tr>\n",
       "      <th>3560</th>\n",
       "      <td>My son who had worked for British Airways urge...</td>\n",
       "      <td>1</td>\n",
       "      <td>0.6640</td>\n",
       "    </tr>\n",
       "    <tr>\n",
       "      <th>3561</th>\n",
       "      <td>London City-New York JFK via Shannon on A318 b...</td>\n",
       "      <td>0</td>\n",
       "      <td>0.9148</td>\n",
       "    </tr>\n",
       "    <tr>\n",
       "      <th>3562</th>\n",
       "      <td>SIN-LHR BA12 B747-436 First Class. Old aircraf...</td>\n",
       "      <td>0</td>\n",
       "      <td>0.2244</td>\n",
       "    </tr>\n",
       "  </tbody>\n",
       "</table>\n",
       "<p>3563 rows × 3 columns</p>\n",
       "</div>"
      ],
      "text/plain": [
       "                                                   Text  Recommended  \\\n",
       "0      Top Ten REASONS to not use British Airways To...            0   \n",
       "1       Easy check in on the way to Heathrow. The fl...            1   \n",
       "2     ✅   Online check in worked fine. Quick securit...            1   \n",
       "3     ✅ . The BA first lounge at Terminal 5 was a  z...            0   \n",
       "4      Paid a quick visit to Nice yesterday from Hea...            0   \n",
       "...                                                 ...          ...   \n",
       "3558  YYZ to LHR - July 2012 - I flew overnight in p...            1   \n",
       "3559  LHR to HAM. Purser addresses all club passenge...            1   \n",
       "3560  My son who had worked for British Airways urge...            1   \n",
       "3561  London City-New York JFK via Shannon on A318 b...            0   \n",
       "3562  SIN-LHR BA12 B747-436 First Class. Old aircraf...            0   \n",
       "\n",
       "      Sentiment  \n",
       "0       -0.7535  \n",
       "1       -0.0516  \n",
       "2        0.8479  \n",
       "3       -0.1289  \n",
       "4        0.9738  \n",
       "...         ...  \n",
       "3558     0.0933  \n",
       "3559     0.8720  \n",
       "3560     0.6640  \n",
       "3561     0.9148  \n",
       "3562     0.2244  \n",
       "\n",
       "[3563 rows x 3 columns]"
      ]
     },
     "execution_count": 72,
     "metadata": {},
     "output_type": "execute_result"
    }
   ],
   "source": [
    "data_sentiment = data[[\"Text\", \"Recommended\", \"Sentiment\"]]\n",
    "data_sentiment"
   ]
  },
  {
   "cell_type": "code",
   "execution_count": 76,
   "id": "bbc0a17f",
   "metadata": {},
   "outputs": [
    {
     "name": "stdout",
     "output_type": "stream",
     "text": [
      "The average sentiments for given categories\n"
     ]
    },
    {
     "data": {
      "text/html": [
       "<div>\n",
       "<style scoped>\n",
       "    .dataframe tbody tr th:only-of-type {\n",
       "        vertical-align: middle;\n",
       "    }\n",
       "\n",
       "    .dataframe tbody tr th {\n",
       "        vertical-align: top;\n",
       "    }\n",
       "\n",
       "    .dataframe thead th {\n",
       "        text-align: right;\n",
       "    }\n",
       "</style>\n",
       "<table border=\"1\" class=\"dataframe\">\n",
       "  <thead>\n",
       "    <tr style=\"text-align: right;\">\n",
       "      <th></th>\n",
       "      <th>Sentiment</th>\n",
       "    </tr>\n",
       "    <tr>\n",
       "      <th>Recommended</th>\n",
       "      <th></th>\n",
       "    </tr>\n",
       "  </thead>\n",
       "  <tbody>\n",
       "    <tr>\n",
       "      <th>0</th>\n",
       "      <td>-0.229656</td>\n",
       "    </tr>\n",
       "    <tr>\n",
       "      <th>1</th>\n",
       "      <td>0.749968</td>\n",
       "    </tr>\n",
       "  </tbody>\n",
       "</table>\n",
       "</div>"
      ],
      "text/plain": [
       "             Sentiment\n",
       "Recommended           \n",
       "0            -0.229656\n",
       "1             0.749968"
      ]
     },
     "execution_count": 76,
     "metadata": {},
     "output_type": "execute_result"
    }
   ],
   "source": [
    "x = data_sentiment[['Recommended', 'Sentiment']].groupby('Recommended')\n",
    "print(\"The average sentiments for given categories\")\n",
    "x.mean()"
   ]
  },
  {
   "cell_type": "markdown",
   "id": "b97341f6",
   "metadata": {},
   "source": [
    "### Insight\n",
    "1. VADER sentiment analysis results in average sentiments for recommending reviews +0.75 and for the not recommending reviews the sentiment of -0.22, where values -1 means the most negative and +1 meaning the most positive sentiments."
   ]
  }
 ],
 "metadata": {
  "kernelspec": {
   "display_name": "Python 3",
   "language": "python",
   "name": "python3"
  },
  "language_info": {
   "codemirror_mode": {
    "name": "ipython",
    "version": 3
   },
   "file_extension": ".py",
   "mimetype": "text/x-python",
   "name": "python",
   "nbconvert_exporter": "python",
   "pygments_lexer": "ipython3",
   "version": "3.8.8"
  }
 },
 "nbformat": 4,
 "nbformat_minor": 5
}
